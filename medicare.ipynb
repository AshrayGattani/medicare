{
 "cells": [
  {
   "cell_type": "code",
   "execution_count": 128,
   "id": "bf867436",
   "metadata": {},
   "outputs": [],
   "source": [
    "import pandas as pd"
   ]
  },
  {
   "cell_type": "code",
   "execution_count": 129,
   "id": "17a3f12e",
   "metadata": {},
   "outputs": [],
   "source": [
    "dataset = pd.read_csv('Hackathondata.csv')"
   ]
  },
  {
   "cell_type": "code",
   "execution_count": 130,
   "id": "86d51fb5",
   "metadata": {},
   "outputs": [
    {
     "data": {
      "text/html": [
       "<div>\n",
       "<style scoped>\n",
       "    .dataframe tbody tr th:only-of-type {\n",
       "        vertical-align: middle;\n",
       "    }\n",
       "\n",
       "    .dataframe tbody tr th {\n",
       "        vertical-align: top;\n",
       "    }\n",
       "\n",
       "    .dataframe thead th {\n",
       "        text-align: right;\n",
       "    }\n",
       "</style>\n",
       "<table border=\"1\" class=\"dataframe\">\n",
       "  <thead>\n",
       "    <tr style=\"text-align: right;\">\n",
       "      <th></th>\n",
       "      <th>DRG Definition</th>\n",
       "      <th>Hospital Referral Region Description</th>\n",
       "      <th>Average Covered Charges</th>\n",
       "    </tr>\n",
       "  </thead>\n",
       "  <tbody>\n",
       "    <tr>\n",
       "      <th>0</th>\n",
       "      <td>207 - RESPIRATORY SYSTEM DIAGNOSIS W VENTILATO...</td>\n",
       "      <td>CA - San Mateo County</td>\n",
       "      <td>929118.90</td>\n",
       "    </tr>\n",
       "    <tr>\n",
       "      <th>1</th>\n",
       "      <td>207 - RESPIRATORY SYSTEM DIAGNOSIS W VENTILATO...</td>\n",
       "      <td>CA - Alameda County</td>\n",
       "      <td>918023.18</td>\n",
       "    </tr>\n",
       "    <tr>\n",
       "      <th>2</th>\n",
       "      <td>870 - SEPTICEMIA OR SEVERE SEPSIS W MV 96+ HOURS</td>\n",
       "      <td>CA - San Mateo County</td>\n",
       "      <td>637377.71</td>\n",
       "    </tr>\n",
       "    <tr>\n",
       "      <th>3</th>\n",
       "      <td>870 - SEPTICEMIA OR SEVERE SEPSIS W MV 96+ HOURS</td>\n",
       "      <td>CA - Los Angeles</td>\n",
       "      <td>375878.20</td>\n",
       "    </tr>\n",
       "    <tr>\n",
       "      <th>4</th>\n",
       "      <td>870 - SEPTICEMIA OR SEVERE SEPSIS W MV 96+ HOURS</td>\n",
       "      <td>CA - San Francisco</td>\n",
       "      <td>447714.88</td>\n",
       "    </tr>\n",
       "    <tr>\n",
       "      <th>...</th>\n",
       "      <td>...</td>\n",
       "      <td>...</td>\n",
       "      <td>...</td>\n",
       "    </tr>\n",
       "    <tr>\n",
       "      <th>163060</th>\n",
       "      <td>948 - SIGNS &amp; SYMPTOMS W/O MCC</td>\n",
       "      <td>WY - Casper</td>\n",
       "      <td>12021.42</td>\n",
       "    </tr>\n",
       "    <tr>\n",
       "      <th>163061</th>\n",
       "      <td>313 - CHEST PAIN</td>\n",
       "      <td>WY - Casper</td>\n",
       "      <td>8548.52</td>\n",
       "    </tr>\n",
       "    <tr>\n",
       "      <th>163062</th>\n",
       "      <td>310 - CARDIAC ARRHYTHMIA &amp; CONDUCTION DISORDER...</td>\n",
       "      <td>WY - Casper</td>\n",
       "      <td>13347.00</td>\n",
       "    </tr>\n",
       "    <tr>\n",
       "      <th>163063</th>\n",
       "      <td>918 - POISONING &amp; TOXIC EFFECTS OF DRUGS W/O MCC</td>\n",
       "      <td>WY - Casper</td>\n",
       "      <td>16805.27</td>\n",
       "    </tr>\n",
       "    <tr>\n",
       "      <th>163064</th>\n",
       "      <td>313 - CHEST PAIN</td>\n",
       "      <td>WY - Casper</td>\n",
       "      <td>15558.64</td>\n",
       "    </tr>\n",
       "  </tbody>\n",
       "</table>\n",
       "<p>163065 rows × 3 columns</p>\n",
       "</div>"
      ],
      "text/plain": [
       "                                           DRG Definition  \\\n",
       "0       207 - RESPIRATORY SYSTEM DIAGNOSIS W VENTILATO...   \n",
       "1       207 - RESPIRATORY SYSTEM DIAGNOSIS W VENTILATO...   \n",
       "2        870 - SEPTICEMIA OR SEVERE SEPSIS W MV 96+ HOURS   \n",
       "3        870 - SEPTICEMIA OR SEVERE SEPSIS W MV 96+ HOURS   \n",
       "4        870 - SEPTICEMIA OR SEVERE SEPSIS W MV 96+ HOURS   \n",
       "...                                                   ...   \n",
       "163060                     948 - SIGNS & SYMPTOMS W/O MCC   \n",
       "163061                                   313 - CHEST PAIN   \n",
       "163062  310 - CARDIAC ARRHYTHMIA & CONDUCTION DISORDER...   \n",
       "163063   918 - POISONING & TOXIC EFFECTS OF DRUGS W/O MCC   \n",
       "163064                                   313 - CHEST PAIN   \n",
       "\n",
       "       Hospital Referral Region Description  Average Covered Charges  \n",
       "0                     CA - San Mateo County                929118.90  \n",
       "1                       CA - Alameda County                918023.18  \n",
       "2                     CA - San Mateo County                637377.71  \n",
       "3                          CA - Los Angeles                375878.20  \n",
       "4                        CA - San Francisco                447714.88  \n",
       "...                                     ...                      ...  \n",
       "163060                          WY - Casper                 12021.42  \n",
       "163061                          WY - Casper                  8548.52  \n",
       "163062                          WY - Casper                 13347.00  \n",
       "163063                          WY - Casper                 16805.27  \n",
       "163064                          WY - Casper                 15558.64  \n",
       "\n",
       "[163065 rows x 3 columns]"
      ]
     },
     "execution_count": 130,
     "metadata": {},
     "output_type": "execute_result"
    }
   ],
   "source": [
    "dataset"
   ]
  },
  {
   "cell_type": "code",
   "execution_count": 131,
   "id": "d3d90bc9",
   "metadata": {},
   "outputs": [],
   "source": [
    "dataset['Average Covered Charges'] = dataset['Average Covered Charges'].astype(float)"
   ]
  },
  {
   "cell_type": "code",
   "execution_count": 136,
   "id": "92401d85",
   "metadata": {},
   "outputs": [
    {
     "data": {
      "text/plain": [
       "DecisionTreeRegressor(random_state=0)"
      ]
     },
     "execution_count": 136,
     "metadata": {},
     "output_type": "execute_result"
    }
   ],
   "source": [
    "from sklearn.tree import DecisionTreeRegressor\n",
    "dec_tree_reg = DecisionTreeRegressor(random_state=0)\n",
    "dec_tree_reg.fit(X,y)"
   ]
  },
  {
   "cell_type": "code",
   "execution_count": 137,
   "id": "b60b031a",
   "metadata": {},
   "outputs": [],
   "source": [
    "y_pred = dec_tree_reg.predict(X)\n"
   ]
  },
  {
   "cell_type": "code",
   "execution_count": 138,
   "id": "84e99893",
   "metadata": {},
   "outputs": [],
   "source": [
    "from sklearn.metrics import mean_squared_error,mean_absolute_error\n",
    "import numpy as np\n",
    "error = np.sqrt(mean_squared_error(y,y_pred))"
   ]
  },
  {
   "cell_type": "code",
   "execution_count": 139,
   "id": "835481ff",
   "metadata": {},
   "outputs": [
    {
     "data": {
      "text/plain": [
       "15278.102545599171"
      ]
     },
     "execution_count": 139,
     "metadata": {},
     "output_type": "execute_result"
    }
   ],
   "source": [
    "error"
   ]
  },
  {
   "cell_type": "code",
   "execution_count": 140,
   "id": "cafe1f50",
   "metadata": {},
   "outputs": [
    {
     "data": {
      "text/html": [
       "<div>\n",
       "<style scoped>\n",
       "    .dataframe tbody tr th:only-of-type {\n",
       "        vertical-align: middle;\n",
       "    }\n",
       "\n",
       "    .dataframe tbody tr th {\n",
       "        vertical-align: top;\n",
       "    }\n",
       "\n",
       "    .dataframe thead th {\n",
       "        text-align: right;\n",
       "    }\n",
       "</style>\n",
       "<table border=\"1\" class=\"dataframe\">\n",
       "  <thead>\n",
       "    <tr style=\"text-align: right;\">\n",
       "      <th></th>\n",
       "      <th>DRG Definition</th>\n",
       "      <th>Hospital Referral Region Description</th>\n",
       "    </tr>\n",
       "  </thead>\n",
       "  <tbody>\n",
       "    <tr>\n",
       "      <th>0</th>\n",
       "      <td>21</td>\n",
       "      <td>34</td>\n",
       "    </tr>\n",
       "    <tr>\n",
       "      <th>1</th>\n",
       "      <td>21</td>\n",
       "      <td>16</td>\n",
       "    </tr>\n",
       "    <tr>\n",
       "      <th>2</th>\n",
       "      <td>92</td>\n",
       "      <td>34</td>\n",
       "    </tr>\n",
       "    <tr>\n",
       "      <th>3</th>\n",
       "      <td>92</td>\n",
       "      <td>21</td>\n",
       "    </tr>\n",
       "    <tr>\n",
       "      <th>4</th>\n",
       "      <td>92</td>\n",
       "      <td>31</td>\n",
       "    </tr>\n",
       "    <tr>\n",
       "      <th>...</th>\n",
       "      <td>...</td>\n",
       "      <td>...</td>\n",
       "    </tr>\n",
       "    <tr>\n",
       "      <th>163060</th>\n",
       "      <td>99</td>\n",
       "      <td>305</td>\n",
       "    </tr>\n",
       "    <tr>\n",
       "      <th>163061</th>\n",
       "      <td>49</td>\n",
       "      <td>305</td>\n",
       "    </tr>\n",
       "    <tr>\n",
       "      <th>163062</th>\n",
       "      <td>47</td>\n",
       "      <td>305</td>\n",
       "    </tr>\n",
       "    <tr>\n",
       "      <th>163063</th>\n",
       "      <td>98</td>\n",
       "      <td>305</td>\n",
       "    </tr>\n",
       "    <tr>\n",
       "      <th>163064</th>\n",
       "      <td>49</td>\n",
       "      <td>305</td>\n",
       "    </tr>\n",
       "  </tbody>\n",
       "</table>\n",
       "<p>163065 rows × 2 columns</p>\n",
       "</div>"
      ],
      "text/plain": [
       "        DRG Definition  Hospital Referral Region Description\n",
       "0                   21                                    34\n",
       "1                   21                                    16\n",
       "2                   92                                    34\n",
       "3                   92                                    21\n",
       "4                   92                                    31\n",
       "...                ...                                   ...\n",
       "163060              99                                   305\n",
       "163061              49                                   305\n",
       "163062              47                                   305\n",
       "163063              98                                   305\n",
       "163064              49                                   305\n",
       "\n",
       "[163065 rows x 2 columns]"
      ]
     },
     "execution_count": 140,
     "metadata": {},
     "output_type": "execute_result"
    }
   ],
   "source": [
    "X"
   ]
  },
  {
   "cell_type": "code",
   "execution_count": null,
   "id": "606c8c77",
   "metadata": {},
   "outputs": [],
   "source": []
  },
  {
   "cell_type": "code",
   "execution_count": 132,
   "id": "8393f187",
   "metadata": {},
   "outputs": [
    {
     "data": {
      "text/plain": [
       "array([ 21,  92,  91,  52, 100,  53,  36,  70,  30,  66,  50,  67,  26,\n",
       "        22,  93,  24,  23,  55,  10,   2,  31,  68,  87,  38,  16,  71,\n",
       "        33,  97,  12,  77,  82,  80,  69,  29,  37,  25,  89,  11,  13,\n",
       "         3,  27,  95,   1,  17,  28,  63,  32,  90,  45,  85,  72,  60,\n",
       "        79,  96,  54,  19,  39,  94,  34,  62,  56,  86,  51,  83,  14,\n",
       "        65,   9,  58,  88,  81,   4,  40,  78,   6,  64,  41,  46,  98,\n",
       "         0,  61,  75,  73,  99,  76,  15,   7,  57,  48,  18,  59,  35,\n",
       "        42,  74,   5,  49,  44,  43,  47,  84,   8,  20])"
      ]
     },
     "execution_count": 132,
     "metadata": {},
     "output_type": "execute_result"
    }
   ],
   "source": [
    "from sklearn.preprocessing import LabelEncoder\n",
    "le_drg = LabelEncoder()\n",
    "dataset['DRG Definition'] = le_drg.fit_transform(dataset['DRG Definition'])\n",
    "dataset['DRG Definition'].unique()"
   ]
  },
  {
   "cell_type": "code",
   "execution_count": 133,
   "id": "c9897815",
   "metadata": {},
   "outputs": [
    {
     "data": {
      "text/plain": [
       "array([ 34,  16,  21,  31,  29,  28,  32,  19,  27,  39,  30,  22,  23,\n",
       "        37,  18,  36,  24,  17,  38,  35,  20,  26,  25,  33,  13, 222,\n",
       "       264, 260, 270, 266, 267, 263, 268, 262, 256, 255, 271, 275, 261,\n",
       "        11, 259, 274, 258, 272, 254, 273, 257, 269, 265, 125, 206, 203,\n",
       "       199, 201, 205, 197, 204, 200, 287, 188, 193, 202, 189, 198,  49,\n",
       "       228, 235,  60,  69,  54,  56,  58,  59,  62,  52,  67,  55,  68,\n",
       "        65,  66,  63,  57,  53,  61,  64,   2, 229, 232, 227, 233, 234,\n",
       "       225, 238, 237, 236, 231, 226, 230, 216, 304,  91,  96,  92,  97,\n",
       "        90,  98,  93, 100,  89,  99,  94, 299,  95,  88, 160, 116,  79,\n",
       "       101, 215, 209, 211, 210, 212, 207, 214, 213, 208, 102, 135, 138,\n",
       "       137, 145, 141, 146, 139, 140, 147, 136, 149, 142, 144, 143, 148,\n",
       "       295, 172, 178, 174, 171, 176, 177, 170, 283, 249, 173, 175,  71,\n",
       "        72,  74,  73,  70,  76,  75, 247, 127, 129, 128, 239, 191, 190,\n",
       "       187, 192,  51, 284, 280, 279, 282, 285, 250, 286, 281, 103, 104,\n",
       "       109, 108, 107, 105, 114, 106, 290, 291, 223, 292, 288, 289, 293,\n",
       "        15,  12,  14, 195, 194, 253, 252, 251, 248,   3, 297, 296, 151,\n",
       "       298, 301, 300, 294, 130, 132,  50, 131, 156, 155, 158, 159, 157,\n",
       "         8, 153, 150, 154, 152, 180, 246,  42,  45,  43,  44,  40,  46,\n",
       "        41,   1,   5,   6,   4, 166, 164, 241, 240, 243, 242, 244, 113,\n",
       "       112, 115, 303, 124, 118, 120, 126, 117, 119, 123, 122, 121,  48,\n",
       "        47, 220, 221, 224,  86,  82,  80,  84, 184,  83,  85,  78,  81,\n",
       "       218, 219, 217,   7, 278, 277, 276, 111, 110,   9,  10, 163, 162,\n",
       "       161, 165, 196, 183, 302,  87, 185, 186, 134,  77, 133, 181, 179,\n",
       "       182, 168, 169, 167, 245,   0, 305])"
      ]
     },
     "execution_count": 133,
     "metadata": {},
     "output_type": "execute_result"
    }
   ],
   "source": [
    "from sklearn.preprocessing import LabelEncoder\n",
    "le_hosp = LabelEncoder()\n",
    "dataset['Hospital Referral Region Description'] = le_hosp.fit_transform(dataset['Hospital Referral Region Description'])\n",
    "dataset['Hospital Referral Region Description'].unique()"
   ]
  },
  {
   "cell_type": "code",
   "execution_count": 134,
   "id": "4005e27e",
   "metadata": {},
   "outputs": [],
   "source": [
    "X = dataset.drop(\"Average Covered Charges\",axis=1)\n",
    "y = dataset[\"Average Covered Charges\"]\n"
   ]
  },
  {
   "cell_type": "code",
   "execution_count": 142,
   "id": "8a47290c",
   "metadata": {},
   "outputs": [
    {
     "data": {
      "text/plain": [
       "array([['312 - SYNCOPE & COLLAPSE', 'CA - Los Angeles']], dtype='<U24')"
      ]
     },
     "execution_count": 142,
     "metadata": {},
     "output_type": "execute_result"
    }
   ],
   "source": [
    "X"
   ]
  },
  {
   "cell_type": "code",
   "execution_count": 146,
   "id": "ed3d64fc",
   "metadata": {},
   "outputs": [],
   "source": [
    "X = np.array([[\"312 - SYNCOPE & COLLAPSE\",\"CA - Los Angeles\"]])"
   ]
  },
  {
   "cell_type": "code",
   "execution_count": 147,
   "id": "3dff66db",
   "metadata": {},
   "outputs": [
    {
     "data": {
      "text/plain": [
       "array([['48', '21']], dtype='<U24')"
      ]
     },
     "execution_count": 147,
     "metadata": {},
     "output_type": "execute_result"
    }
   ],
   "source": [
    "X[:,0]= le_drg.transform(X[:,0])\n",
    "X[:,1]= le_hosp.transform(X[:,1])\n",
    "X"
   ]
  },
  {
   "cell_type": "code",
   "execution_count": 148,
   "id": "22a905a6",
   "metadata": {},
   "outputs": [
    {
     "name": "stderr",
     "output_type": "stream",
     "text": [
      "c:\\users\\ashray gattani\\appdata\\local\\programs\\python\\python39\\lib\\site-packages\\sklearn\\base.py:450: UserWarning: X does not have valid feature names, but DecisionTreeRegressor was fitted with feature names\n",
      "  warnings.warn(\n"
     ]
    },
    {
     "data": {
      "text/plain": [
       "array([34168.48551724])"
      ]
     },
     "execution_count": 148,
     "metadata": {},
     "output_type": "execute_result"
    }
   ],
   "source": [
    "y_pred = dec_tree_reg.predict(X)\n",
    "y_pred"
   ]
  },
  {
   "cell_type": "code",
   "execution_count": 149,
   "id": "19657a92",
   "metadata": {},
   "outputs": [],
   "source": [
    "import pickle"
   ]
  },
  {
   "cell_type": "code",
   "execution_count": 150,
   "id": "3ab07fc2",
   "metadata": {},
   "outputs": [],
   "source": [
    "data = {\"model\":dec_tree_reg,\"le_DRG\":le_drg,\"le_hosp\":le_hosp}\n",
    "with open('Saved_steps.pkl','wb') as file:\n",
    "    pickle.dump(data,file)\n",
    "    "
   ]
  },
  {
   "cell_type": "code",
   "execution_count": 151,
   "id": "2e1855f0",
   "metadata": {},
   "outputs": [],
   "source": [
    "with open('Saved_steps.pkl','rb') as file:\n",
    "    data = pickle.load(file)\n",
    "regressor_loaded = data[\"model\"]\n",
    "le_drg = data[\"le_DRG\"]\n",
    "le_hosp = data[\"le_hosp\"]"
   ]
  },
  {
   "cell_type": "code",
   "execution_count": 152,
   "id": "e272427b",
   "metadata": {},
   "outputs": [
    {
     "name": "stderr",
     "output_type": "stream",
     "text": [
      "c:\\users\\ashray gattani\\appdata\\local\\programs\\python\\python39\\lib\\site-packages\\sklearn\\base.py:450: UserWarning: X does not have valid feature names, but DecisionTreeRegressor was fitted with feature names\n",
      "  warnings.warn(\n"
     ]
    },
    {
     "data": {
      "text/plain": [
       "array([34168.48551724])"
      ]
     },
     "execution_count": 152,
     "metadata": {},
     "output_type": "execute_result"
    }
   ],
   "source": [
    "y_ped = regressor_loaded.predict(X)\n",
    "y_pred"
   ]
  },
  {
   "cell_type": "code",
   "execution_count": null,
   "id": "d829e8c0",
   "metadata": {},
   "outputs": [],
   "source": []
  }
 ],
 "metadata": {
  "kernelspec": {
   "display_name": "Python 3 (ipykernel)",
   "language": "python",
   "name": "python3"
  },
  "language_info": {
   "codemirror_mode": {
    "name": "ipython",
    "version": 3
   },
   "file_extension": ".py",
   "mimetype": "text/x-python",
   "name": "python",
   "nbconvert_exporter": "python",
   "pygments_lexer": "ipython3",
   "version": "3.9.2"
  }
 },
 "nbformat": 4,
 "nbformat_minor": 5
}
